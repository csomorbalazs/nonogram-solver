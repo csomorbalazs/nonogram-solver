{
  "nbformat": 4,
  "nbformat_minor": 0,
  "metadata": {
    "accelerator": "GPU",
    "colab": {
      "name": "dense-neural-network-solver.ipynb",
      "provenance": [],
      "collapsed_sections": []
    },
    "kernelspec": {
      "display_name": "Python 3",
      "name": "python3"
    }
  },
  "cells": [
    {
      "cell_type": "markdown",
      "metadata": {
        "id": "w3w9ahelrKOq"
      },
      "source": [
        "### Nonogram class"
      ]
    },
    {
      "cell_type": "code",
      "metadata": {
        "id": "1LfgRhHKrAyj"
      },
      "source": [
        "from typing import List, Tuple\r\n",
        "import random\r\n",
        "import numpy as np\r\n",
        "import itertools\r\n",
        "import math\r\n",
        "import re"
      ],
      "execution_count": 1,
      "outputs": []
    },
    {
      "cell_type": "code",
      "metadata": {
        "id": "MqLx4xsUrD0e"
      },
      "source": [
        "def pad(list, target_len):\r\n",
        "    return [0]*(target_len - len(list)) + list[:target_len]"
      ],
      "execution_count": 2,
      "outputs": []
    },
    {
      "cell_type": "code",
      "metadata": {
        "id": "kZYxNqdirE4F"
      },
      "source": [
        "class Nonogram():\r\n",
        "    display_char = {\r\n",
        "        -1: \"?\",\r\n",
        "        0: \"□\",\r\n",
        "        1: \"■\"\r\n",
        "    }\r\n",
        "\r\n",
        "    def __init__(self,\r\n",
        "                 row_count: int,\r\n",
        "                 col_count: int,\r\n",
        "                 row_descriptors: List[List[int]] = None,\r\n",
        "                 col_descriptors: List[List[int]] = None,\r\n",
        "                 colored_cells: List[Tuple[int]] = None):\r\n",
        "        self.row_count = row_count\r\n",
        "        self.col_count = col_count\r\n",
        "\r\n",
        "        self.row_descriptor_len = math.ceil(col_count / 2)\r\n",
        "        self.col_descriptor_len = math.ceil(row_count / 2)\r\n",
        "\r\n",
        "        if not row_descriptors:\r\n",
        "            row_descriptors = [[] for _ in range(row_count)]\r\n",
        "        if not col_descriptors:\r\n",
        "            col_descriptors = [[] for _ in range(col_count)]\r\n",
        "\r\n",
        "        self.row_descriptors = [pad(row, self.row_descriptor_len)\r\n",
        "                                for row in row_descriptors]\r\n",
        "        self.col_descriptors = [pad(col, self.col_descriptor_len)\r\n",
        "                                for col in col_descriptors]\r\n",
        "\r\n",
        "        self.reset_cells()\r\n",
        "\r\n",
        "        if colored_cells:\r\n",
        "            self.colored_cells = colored_cells\r\n",
        "\r\n",
        "    def reset_cells(self):\r\n",
        "        self.cells = np.ones((self.row_count, self.col_count), dtype=int) * -1\r\n",
        "\r\n",
        "    @property\r\n",
        "    def colored_cells(self) -> List[Tuple[int]]:\r\n",
        "        solutions = []\r\n",
        "        for i in range(len(self.row_descriptors)):\r\n",
        "            for j in range(len(self.col_descriptors)):\r\n",
        "                if self.cells[i][j] == 1:\r\n",
        "                    solutions.append((i, j))\r\n",
        "        return solutions\r\n",
        "\r\n",
        "    @colored_cells.setter\r\n",
        "    def colored_cells(self, solutions):\r\n",
        "        for i in range(self.row_count):\r\n",
        "            for j in range(self.col_count):\r\n",
        "                self.cells[i][j] = 1 if (i, j) in solutions else 0\r\n",
        "\r\n",
        "    def print(self, show_zeros=False) -> None:\r\n",
        "        row_descriptor_len = self.row_descriptor_len\r\n",
        "        col_descriptor_len = self.col_descriptor_len\r\n",
        "\r\n",
        "        output = \"\"\r\n",
        "\r\n",
        "        # column numbers\r\n",
        "        for i in range(col_descriptor_len-1, -1, -1):\r\n",
        "            output += \"  \" * row_descriptor_len\r\n",
        "            for col in self.col_descriptors:\r\n",
        "                output += str(col[-(i+1)]) + \" \" if len(col) > i else \"  \"\r\n",
        "\r\n",
        "            output += \"\\n\"\r\n",
        "\r\n",
        "        # row numbers\r\n",
        "        for i, row in enumerate(self.row_descriptors):\r\n",
        "            for r in range(row_descriptor_len-1, -1, -1):\r\n",
        "                output += str(row[-(r+1)]) + \" \" if len(row) > r else \"  \"\r\n",
        "\r\n",
        "            # body\r\n",
        "            for j, col in enumerate(self.col_descriptors):\r\n",
        "                output += Nonogram.display_char[self.cells[i][j]] + \" \"\r\n",
        "\r\n",
        "            output += \"\\n\"\r\n",
        "\r\n",
        "        # don't display 0 values\r\n",
        "        if not show_zeros:\r\n",
        "            output = re.sub(r\"(?<=[^0-9])0\", \" \", output)\r\n",
        "        print(output)\r\n",
        "\r\n",
        "    def is_solved(self) -> bool:\r\n",
        "        if np.isin(-1, self.cells):\r\n",
        "            return False\r\n",
        "\r\n",
        "        real_row_descriptors = self.__calculate_row_descriptors()\r\n",
        "\r\n",
        "        if real_row_descriptors != self.row_descriptors:\r\n",
        "            return False\r\n",
        "\r\n",
        "        real_col_descriptors = self.__calculate_col_descriptors()\r\n",
        "\r\n",
        "        if real_col_descriptors != self.col_descriptors:\r\n",
        "            return False\r\n",
        "\r\n",
        "        return True\r\n",
        "\r\n",
        "    def calculate_descriptors(self):\r\n",
        "        self.row_descriptors = self.__calculate_row_descriptors()\r\n",
        "        self.col_descriptors = self.__calculate_col_descriptors()\r\n",
        "\r\n",
        "        return self.row_descriptors, self.col_descriptors\r\n",
        "\r\n",
        "    def __calculate_row_descriptors(self):\r\n",
        "        row_descriptors = []\r\n",
        "\r\n",
        "        for row in self.cells:\r\n",
        "            row_descriptors.append(self.__calculate_descriptor(row))\r\n",
        "\r\n",
        "        return row_descriptors\r\n",
        "\r\n",
        "    def __calculate_col_descriptors(self):\r\n",
        "        col_descriptors = []\r\n",
        "\r\n",
        "        for col in self.cells.T:\r\n",
        "            col_descriptors.append(self.__calculate_descriptor(col))\r\n",
        "\r\n",
        "        return col_descriptors\r\n",
        "\r\n",
        "    def __calculate_descriptor(self, list: List[int]):\r\n",
        "        descriptor = []\r\n",
        "        open_piece = False\r\n",
        "        pad_len = math.ceil(len(list) / 2)\r\n",
        "\r\n",
        "        for elem in list:\r\n",
        "            if elem == 1:\r\n",
        "                if open_piece:\r\n",
        "                    descriptor[-1] += 1\r\n",
        "                else:\r\n",
        "                    descriptor.append(1)\r\n",
        "                    open_piece = True\r\n",
        "            else:\r\n",
        "                open_piece = False\r\n",
        "\r\n",
        "        return pad(descriptor, pad_len)\r\n",
        "\r\n",
        "    def solve_line(self, index: int):\r\n",
        "        if index < self.row_count:\r\n",
        "            row = self.cells[index]\r\n",
        "            row_descriptor = self.row_descriptors[index]\r\n",
        "\r\n",
        "            solved_row = self.__solve_line(row, row_descriptor)\r\n",
        "            reward = np.sum(row == -1) - np.sum(solved_row == -1)\r\n",
        "\r\n",
        "            self.cells[index] = solved_row\r\n",
        "            return reward\r\n",
        "        else:\r\n",
        "            index -= self.row_count\r\n",
        "            col = self.cells[:, index]\r\n",
        "            col_descriptor = self.col_descriptors[index]\r\n",
        "\r\n",
        "            solved_col = self.__solve_line(col, col_descriptor)\r\n",
        "            reward = np.sum(col == -1) - np.sum(solved_col == -1)\r\n",
        "\r\n",
        "            self.cells[:, index] = solved_col\r\n",
        "            return reward\r\n",
        "\r\n",
        "    def __solve_line(self, line, line_descriptor):\r\n",
        "        # More efficient algorithm could be implemented\r\n",
        "        possible_lines = []\r\n",
        "        filled_cell_count = sum(line_descriptor)\r\n",
        "\r\n",
        "        line_indexes = range(len(line))\r\n",
        "\r\n",
        "        for filled_indexes in itertools.combinations(line_indexes, filled_cell_count):\r\n",
        "            possible_solution = [0 for _ in range(len(line))]\r\n",
        "\r\n",
        "            for i in filled_indexes:\r\n",
        "                possible_solution[i] = 1\r\n",
        "\r\n",
        "            if pad(self.__calculate_descriptor(possible_solution),\r\n",
        "                   len(line_descriptor)) == line_descriptor:\r\n",
        "\r\n",
        "                matches_line = True\r\n",
        "                for r, s in zip(line, possible_solution):\r\n",
        "                    if r != -1 and r != s:\r\n",
        "                        matches_line = False\r\n",
        "                        break\r\n",
        "\r\n",
        "                if matches_line:\r\n",
        "                    possible_lines.append(np.array(possible_solution))\r\n",
        "\r\n",
        "        result = [True] * len(possible_lines[0])\r\n",
        "        last_line = possible_lines[0]\r\n",
        "\r\n",
        "        for curr_line in possible_lines:\r\n",
        "            for i, (curr, last) in enumerate(zip(curr_line, last_line)):\r\n",
        "                if curr != last:\r\n",
        "                    result[i] = False\r\n",
        "            last_line = curr_line\r\n",
        "\r\n",
        "        solved_line = [e if result[i] else -1 for i,\r\n",
        "                       e in enumerate(possible_lines[0])]\r\n",
        "\r\n",
        "        return solved_line"
      ],
      "execution_count": 3,
      "outputs": []
    },
    {
      "cell_type": "markdown",
      "metadata": {
        "id": "SL_bdfFUrUGc"
      },
      "source": [
        "### Generating data"
      ]
    },
    {
      "cell_type": "code",
      "metadata": {
        "id": "2fAowE16rS1O"
      },
      "source": [
        "def random_nonogram(row_count, col_count) -> Nonogram:\r\n",
        "    cell_count = row_count*col_count\r\n",
        "\r\n",
        "    # nonograms with half of the cells colored are the hardest\r\n",
        "    colored_cell_count = np.random.binomial(cell_count, 0.5)\r\n",
        "\r\n",
        "    fields = list(itertools.product(range(row_count), range(col_count)))\r\n",
        "\r\n",
        "    colored_fields = random.sample(fields, k=colored_cell_count)\r\n",
        "\r\n",
        "    nonogram = Nonogram(\r\n",
        "        row_count,\r\n",
        "        col_count,\r\n",
        "        colored_cells=colored_fields)\r\n",
        "\r\n",
        "    nonogram.calculate_descriptors()\r\n",
        "\r\n",
        "    return nonogram"
      ],
      "execution_count": 4,
      "outputs": []
    },
    {
      "cell_type": "code",
      "metadata": {
        "id": "jVDvFOhsx4Q7"
      },
      "source": [
        "ROWS = 4\r\n",
        "COLS = 4"
      ],
      "execution_count": 5,
      "outputs": []
    },
    {
      "cell_type": "code",
      "metadata": {
        "colab": {
          "base_uri": "https://localhost:8080/"
        },
        "id": "tcXoJXuorZn6",
        "outputId": "67246f4a-dddd-4cc2-acd0-93cc84ee214f"
      },
      "source": [
        "nonogram = random_nonogram(ROWS, COLS)\r\n",
        "\r\n",
        "nonogram.print()"
      ],
      "execution_count": 6,
      "outputs": [
        {
          "output_type": "stream",
          "text": [
            "      1     \n",
            "    2 2 2 3 \n",
            "  4 ■ ■ ■ ■ \n",
            "1 2 ■ □ ■ ■ \n",
            "1 1 □ ■ □ ■ \n",
            "  1 □ ■ □ □ \n",
            "\n"
          ],
          "name": "stdout"
        }
      ]
    },
    {
      "cell_type": "code",
      "metadata": {
        "id": "44MoobmpriBM"
      },
      "source": [
        "nonograms = [random_nonogram(ROWS, COLS) for _ in range(200000)]"
      ],
      "execution_count": 7,
      "outputs": []
    },
    {
      "cell_type": "code",
      "metadata": {
        "id": "s1WrSMDZsE1F"
      },
      "source": [
        "TRAIN_SPLIT = 0.7\r\n",
        "VALID_SPLIT = 0.2\r\n",
        "N = len(nonograms)\r\n",
        "\r\n",
        "train_nonograms = nonograms[:int(N*TRAIN_SPLIT)]\r\n",
        "valid_nonograms = nonograms[int(N*TRAIN_SPLIT):int(N*(TRAIN_SPLIT+VALID_SPLIT))]\r\n",
        "test_nonograms = nonograms[int(N*(TRAIN_SPLIT+VALID_SPLIT)):]"
      ],
      "execution_count": 8,
      "outputs": []
    },
    {
      "cell_type": "code",
      "metadata": {
        "id": "sZfDQLHvuGfA"
      },
      "source": [
        "def x_from_nonogram(nonogram: Nonogram):\r\n",
        "  flat_row_descriptor = np.array(nonogram.row_descriptors).flatten()\r\n",
        "  flat_col_descriptor = np.array(nonogram.col_descriptors).flatten()\r\n",
        "  \r\n",
        "  return np.concatenate((flat_row_descriptor, flat_col_descriptor))"
      ],
      "execution_count": 9,
      "outputs": []
    },
    {
      "cell_type": "code",
      "metadata": {
        "id": "0brFgNsuxWqf"
      },
      "source": [
        "def y_from_nonogram(nonogram: Nonogram):\r\n",
        "  return np.array(nonogram.cells).flatten()"
      ],
      "execution_count": 10,
      "outputs": []
    },
    {
      "cell_type": "code",
      "metadata": {
        "id": "8YdMS-3zuO0O"
      },
      "source": [
        "x_train = np.array([x_from_nonogram(n) for n in train_nonograms])\r\n",
        "y_train = np.array([y_from_nonogram(n) for n in train_nonograms])\r\n",
        "\r\n",
        "x_valid = np.array([x_from_nonogram(n) for n in valid_nonograms])\r\n",
        "y_valid = np.array([y_from_nonogram(n) for n in valid_nonograms])"
      ],
      "execution_count": 11,
      "outputs": []
    },
    {
      "cell_type": "markdown",
      "metadata": {
        "id": "XB4hCnPPk2Lc"
      },
      "source": [
        "### Creating the model"
      ]
    },
    {
      "cell_type": "code",
      "metadata": {
        "id": "oBZYGjisssXj"
      },
      "source": [
        "from tensorflow.keras.models import Sequential\r\n",
        "from tensorflow.keras.layers import Dense, Dropout\r\n",
        "from tensorflow.keras.optimizers import Adam\r\n",
        "from datetime import datetime"
      ],
      "execution_count": 12,
      "outputs": []
    },
    {
      "cell_type": "code",
      "metadata": {
        "id": "UfgRbUYCxvnp"
      },
      "source": [
        "model = Sequential()\r\n",
        "model.add(Dense(8, input_dim=x_train.shape[1], kernel_initializer='he_uniform', activation='relu'))\r\n",
        "model.add(Dense(256, activation='relu'))\r\n",
        "model.add(Dense(y_train.shape[1], activation='sigmoid'))\r\n",
        "\r\n",
        "optimizer = Adam(learning_rate=0.005)\r\n",
        "model.compile(loss='mae', optimizer=optimizer)"
      ],
      "execution_count": 13,
      "outputs": []
    },
    {
      "cell_type": "code",
      "metadata": {
        "colab": {
          "base_uri": "https://localhost:8080/"
        },
        "id": "2MbvNkbw0jf5",
        "outputId": "75d27ad1-a358-4606-9b7e-4c86b3d29359"
      },
      "source": [
        "model.summary()"
      ],
      "execution_count": 14,
      "outputs": [
        {
          "output_type": "stream",
          "text": [
            "Model: \"sequential\"\n",
            "_________________________________________________________________\n",
            "Layer (type)                 Output Shape              Param #   \n",
            "=================================================================\n",
            "dense (Dense)                (None, 8)                 136       \n",
            "_________________________________________________________________\n",
            "dense_1 (Dense)              (None, 256)               2304      \n",
            "_________________________________________________________________\n",
            "dense_2 (Dense)              (None, 16)                4112      \n",
            "=================================================================\n",
            "Total params: 6,552\n",
            "Trainable params: 6,552\n",
            "Non-trainable params: 0\n",
            "_________________________________________________________________\n"
          ],
          "name": "stdout"
        }
      ]
    },
    {
      "cell_type": "markdown",
      "metadata": {
        "id": "n46ViUmnl6mC"
      },
      "source": [
        "### Traning"
      ]
    },
    {
      "cell_type": "code",
      "metadata": {
        "id": "nzzDMUJJmU66"
      },
      "source": [
        "from tensorflow.keras.callbacks import TensorBoard, EarlyStopping, ModelCheckpoint"
      ],
      "execution_count": 15,
      "outputs": []
    },
    {
      "cell_type": "code",
      "metadata": {
        "id": "olBkyet0KXEm"
      },
      "source": [
        "%load_ext tensorboard"
      ],
      "execution_count": 16,
      "outputs": []
    },
    {
      "cell_type": "code",
      "metadata": {
        "id": "HJQ4hupGKSmX"
      },
      "source": [
        "%tensorboard --logdir logs"
      ],
      "execution_count": null,
      "outputs": []
    },
    {
      "cell_type": "code",
      "metadata": {
        "id": "_wvXmC0emy8P"
      },
      "source": [
        "# Define callbacks\r\n",
        "tb = TensorBoard(log_dir='logs', histogram_freq=1, write_graph=1)\r\n",
        "early_stopping = EarlyStopping(patience=50, verbose=1)\r\n",
        "checkpoint = ModelCheckpoint(filepath='dense_model_best',\r\n",
        "                             save_best_only=True, verbose=1)"
      ],
      "execution_count": 17,
      "outputs": []
    },
    {
      "cell_type": "code",
      "metadata": {
        "id": "Sq75bCYgySYh"
      },
      "source": [
        "model.fit(x_train, y_train, \r\n",
        "          validation_data=(x_valid, y_valid),\r\n",
        "          batch_size=256, epochs=3000,\r\n",
        "          callbacks=[tb, early_stopping, checkpoint], verbose=2)"
      ],
      "execution_count": null,
      "outputs": []
    },
    {
      "cell_type": "markdown",
      "metadata": {
        "id": "287KI5WInPl2"
      },
      "source": [
        "### Load saved model"
      ]
    },
    {
      "cell_type": "code",
      "metadata": {
        "id": "qjWWXewtnTFx"
      },
      "source": [
        "from google.colab import drive\r\n",
        "from tensorflow.keras.models import load_model"
      ],
      "execution_count": 19,
      "outputs": []
    },
    {
      "cell_type": "code",
      "metadata": {
        "colab": {
          "base_uri": "https://localhost:8080/"
        },
        "id": "ECpy8c-ctSAR",
        "outputId": "bc4d9a36-1d52-40d9-afdd-5177dd83877c"
      },
      "source": [
        "drive.mount('/content/drive')"
      ],
      "execution_count": null,
      "outputs": [
        {
          "output_type": "stream",
          "text": [
            "Drive already mounted at /content/drive; to attempt to forcibly remount, call drive.mount(\"/content/drive\", force_remount=True).\n"
          ],
          "name": "stdout"
        }
      ]
    },
    {
      "cell_type": "code",
      "metadata": {
        "id": "QYNAe504rP67"
      },
      "source": [
        "MODEL_PATH = 'dense_model_best'\r\n",
        "\r\n",
        "model = load_model(MODEL_PATH)"
      ],
      "execution_count": 20,
      "outputs": []
    },
    {
      "cell_type": "markdown",
      "metadata": {
        "id": "l05omxEnsaXI"
      },
      "source": [
        "### Evaluate model"
      ]
    },
    {
      "cell_type": "code",
      "metadata": {
        "id": "QQXCd8VBuPbp"
      },
      "source": [
        "from sklearn.metrics import mean_absolute_error\r\n",
        "import matplotlib.pyplot as plt\r\n",
        "from matplotlib.ticker import PercentFormatter"
      ],
      "execution_count": 21,
      "outputs": []
    },
    {
      "cell_type": "code",
      "metadata": {
        "id": "UYd7NHXO3vQe"
      },
      "source": [
        "x_test = np.array([x_from_nonogram(n) for n in test_nonograms])\r\n",
        "y_test = np.array([y_from_nonogram(n) for n in test_nonograms])"
      ],
      "execution_count": 22,
      "outputs": []
    },
    {
      "cell_type": "code",
      "metadata": {
        "id": "UqcZENFw4PKl"
      },
      "source": [
        "y_predicted = model.predict(x_test)\r\n",
        "y_predicted = np.rint(y_predicted).astype(int)"
      ],
      "execution_count": 23,
      "outputs": []
    },
    {
      "cell_type": "code",
      "metadata": {
        "id": "IzMDbDbduM1c"
      },
      "source": [
        "missed_cells = []\r\n",
        "\r\n",
        "for predicted_cells, real_cells in zip(y_predicted, y_test):\r\n",
        "  mae = mean_absolute_error(predicted_cells, real_cells)\r\n",
        "\r\n",
        "  missed_cells.append(int(mae*len(real_cells)))\r\n",
        "\r\n",
        "correct_guesses = len([c for c in missed_cells if c == 0])"
      ],
      "execution_count": 24,
      "outputs": []
    },
    {
      "cell_type": "code",
      "metadata": {
        "colab": {
          "base_uri": "https://localhost:8080/",
          "height": 295
        },
        "id": "d1zcewYpvLR0",
        "outputId": "a8111dfd-fd14-418d-9f83-76ea02622313"
      },
      "source": [
        "plt.hist(missed_cells, \r\n",
        "         bins=y_predicted.shape[1],\r\n",
        "         weights=np.ones(len(missed_cells)) / len(missed_cells),\r\n",
        "         edgecolor='white', color='orange')\r\n",
        "plt.gca().yaxis.set_major_formatter(PercentFormatter(1))\r\n",
        "plt.title(f'The model solved {100*correct_guesses/len(missed_cells):.2f}% of nonograms')\r\n",
        "plt.xlabel('Number of incorrect fields')\r\n",
        "plt.show();"
      ],
      "execution_count": 25,
      "outputs": [
        {
          "output_type": "display_data",
          "data": {
            "image/png": "[encoded data removed]",
            "text/plain": [
              "<Figure size 432x288 with 1 Axes>"
            ]
          },
          "metadata": {
            "tags": [],
            "needs_background": "light"
          }
        }
      ]
    }
  ]
}